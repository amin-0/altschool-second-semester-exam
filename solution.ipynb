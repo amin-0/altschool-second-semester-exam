{
 "cells": [
  {
   "cell_type": "markdown",
   "metadata": {},
   "source": [
    "We'll start by importing the modules required to complete this project\n",
    "psycopg2 - To create a connection with the database and run SQL scripts\n",
    "Faker - To generate fake data for the database\n",
    "Random - Used with faker to generate random data"
   ]
  },
  {
   "cell_type": "code",
   "execution_count": 1,
   "metadata": {},
   "outputs": [],
   "source": [
    "import psycopg2\n",
    "from faker import Faker\n",
    "import random\n"
   ]
  },
  {
   "cell_type": "markdown",
   "metadata": {},
   "source": [
    "Create database using psycopg2"
   ]
  },
  {
   "cell_type": "code",
   "execution_count": 2,
   "metadata": {},
   "outputs": [
    {
     "name": "stdout",
     "output_type": "stream",
     "text": [
      "Database exam_db created successfully\n",
      "PostgreSQL connection is closed.\n"
     ]
    }
   ],
   "source": [
    "\n",
    "try:\n",
    "    conn = psycopg2.connect(\n",
    "        host = \"localhost\",\n",
    "        user = \"yinka_admin\",\n",
    "        password = \"yinkaadmin\",\n",
    "        dbname = \"postgres\"\n",
    "    )\n",
    "    conn.set_isolation_level(psycopg2.extensions.ISOLATION_LEVEL_AUTOCOMMIT)\n",
    "    cur = conn.cursor()\n",
    "\n",
    "    cur.execute(\"DROP DATABASE IF EXISTS exam_db\")\n",
    "    conn.commit()\n",
    "\n",
    "    cur.execute(f\"CREATE DATABASE exam_db\")\n",
    "    conn.commit()\n",
    "\n",
    "    print(f\"Database exam_db created successfully\")\n",
    "\n",
    "except (Exception, psycopg2.Error) as error:\n",
    "    print(f\"Error while creating database: {error}\")\n",
    "\n",
    "finally:\n",
    "    if conn:\n",
    "            cur.close()\n",
    "            conn.close()\n",
    "            print(\"PostgreSQL connection is closed.\")\n",
    "\n"
   ]
  },
  {
   "cell_type": "markdown",
   "metadata": {},
   "source": [
    "Connect to the database you created"
   ]
  },
  {
   "cell_type": "code",
   "execution_count": 3,
   "metadata": {},
   "outputs": [
    {
     "name": "stdout",
     "output_type": "stream",
     "text": [
      "Exam schema successfully created\n"
     ]
    }
   ],
   "source": [
    "try:\n",
    "    conn = psycopg2.connect(\n",
    "        host = \"localhost\",\n",
    "        user = \"yinka_admin\",\n",
    "        password = \"yinkaadmin\",\n",
    "        dbname = \"exam_db\"\n",
    "    )\n",
    "    conn.set_isolation_level(psycopg2.extensions.ISOLATION_LEVEL_AUTOCOMMIT)\n",
    "    cur = conn.cursor()\n",
    "\n",
    "    cur.execute(\"CREATE SCHEMA IF NOT EXISTS exam_schema\")\n",
    "    conn.commit()\n",
    "    print(\"Exam schema successfully created\")\n",
    "\n",
    "\n",
    "except (Exception, psycopg2.Error) as error:\n",
    "    print(f\"Error while creating schema: {error}\")"
   ]
  },
  {
   "cell_type": "markdown",
   "metadata": {},
   "source": [
    "Create Tables for the database"
   ]
  },
  {
   "cell_type": "code",
   "execution_count": 9,
   "metadata": {},
   "outputs": [
    {
     "name": "stdout",
     "output_type": "stream",
     "text": [
      "Tables created successfully\n"
     ]
    }
   ],
   "source": [
    "# Create customer table\n",
    "try:\n",
    "    cur.execute(\"\"\"\n",
    "        CREATE TABLE IF NOT EXISTS customers(\n",
    "                customer_id SERIAL PRIMARY KEY,\n",
    "                name TEXT NOT NULL,\n",
    "                email TEXT UNIQUE NOT NULL,\n",
    "                phone_number TEXT,\n",
    "                address JSONB)\n",
    "                \"\"\"\n",
    "                )\n",
    "\n",
    "    # Create product table\n",
    "    cur.execute(\"\"\"\n",
    "                CREATE TABLE IF NOT EXISTS products(\n",
    "                product_id SERIAL PRIMARY KEY,\n",
    "                product_name VARCHAR(100) NOT NULL,\n",
    "                category VARCHAR(100),\n",
    "                price DECIMAL(10, 2) NOT NULL,\n",
    "                stock_quantity INT NOT NULL \n",
    "                )\n",
    "                \"\"\")\n",
    "\n",
    "    # Create the orders table\n",
    "    cur.execute(\"\"\"\n",
    "                CREATE TABLE IF NOT EXISTS orders(\n",
    "                order_id SERIAL PRIMARY KEY,\n",
    "                customer_id INT NOT NULL, \n",
    "                order_date TIMESTAMP NOT NULL,\n",
    "                total_amount DECIMAL(10, 2) NOT NULL,\n",
    "                FOREIGN KEY (customer_id) REFERENCES customers (customer_id)\n",
    "                )\n",
    "                \"\"\")\n",
    "\n",
    "    # Create the order item table\n",
    "    cur.execute(\"\"\"\n",
    "                CREATE TABLE IF NOT EXISTS order_items(\n",
    "                order_item_id SERIAL PRIMARY KEY,\n",
    "                order_id INT NOT NULL,\n",
    "                product_id INT NOT NULL,\n",
    "                quantity INT NOT NULL,\n",
    "                price DECIMAL(10,2) NOT NULL,\n",
    "                FOREIGN KEY (order_id) REFERENCES orders(order_id),\n",
    "                FOREIGN KEY (product_id) REFERENCES productS(product_id)\n",
    "                )\n",
    "                \"\"\")\n",
    "    \n",
    "    conn.commit()\n",
    "    print(\"Tables created successfully\")\n",
    "\n",
    "except (Exception, psycopg2.Error) as error:\n",
    "    print(f\"Error while creating table {error}\")\n"
   ]
  },
  {
   "cell_type": "markdown",
   "metadata": {},
   "source": [
    "Generate fake data and populate the tables"
   ]
  },
  {
   "cell_type": "code",
   "execution_count": null,
   "metadata": {},
   "outputs": [],
   "source": []
  },
  {
   "cell_type": "code",
   "execution_count": null,
   "metadata": {},
   "outputs": [],
   "source": []
  }
 ],
 "metadata": {
  "kernelspec": {
   "display_name": "Python 3",
   "language": "python",
   "name": "python3"
  },
  "language_info": {
   "codemirror_mode": {
    "name": "ipython",
    "version": 3
   },
   "file_extension": ".py",
   "mimetype": "text/x-python",
   "name": "python",
   "nbconvert_exporter": "python",
   "pygments_lexer": "ipython3",
   "version": "3.12.3"
  }
 },
 "nbformat": 4,
 "nbformat_minor": 2
}
