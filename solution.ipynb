{
 "cells": [
  {
   "cell_type": "markdown",
   "metadata": {},
   "source": [
    "We'll start by importing the modules required to complete this project\n",
    "psycopg2 - To create a connection with the database and run SQL scripts\n",
    "Faker - To generate fake data for the database\n",
    "Random - Used with faker to generate random data"
   ]
  },
  {
   "cell_type": "code",
   "execution_count": 1,
   "metadata": {},
   "outputs": [],
   "source": [
    "import psycopg2\n",
    "from faker import Faker\n",
    "import random\n",
    "import json\n",
    "import datetime\n"
   ]
  },
  {
   "cell_type": "markdown",
   "metadata": {},
   "source": [
    "Task 1: Database Setup\n",
    "Create the database and tables using appropriate data types and constraints and populate the table\n"
   ]
  },
  {
   "cell_type": "code",
   "execution_count": null,
   "metadata": {},
   "outputs": [],
   "source": [
    "\n",
    "try:\n",
    "    conn = psycopg2.connect(\n",
    "        host = \"localhost\",\n",
    "        user = \"yinka_admin\",\n",
    "        password = \"yinkaadmin\",\n",
    "        dbname = \"postgres\"\n",
    "    )\n",
    "    conn.set_isolation_level(psycopg2.extensions.ISOLATION_LEVEL_AUTOCOMMIT)\n",
    "    cur = conn.cursor()\n",
    "\n",
    "    cur.execute(\"DROP DATABASE IF EXISTS exam_db\")\n",
    "    conn.commit()\n",
    "\n",
    "    cur.execute(f\"CREATE DATABASE exam_db\")\n",
    "    conn.commit()\n",
    "\n",
    "    print(f\"Database exam_db created successfully\")\n",
    "\n",
    "except (Exception, psycopg2.Error) as error:\n",
    "    print(f\"Error while creating database: {error}\")\n",
    "\n",
    "finally:\n",
    "    if conn:\n",
    "            cur.close()\n",
    "            conn.close()\n",
    "            print(\"PostgreSQL connection is closed.\")\n",
    "\n"
   ]
  },
  {
   "cell_type": "code",
   "execution_count": null,
   "metadata": {},
   "outputs": [],
   "source": [
    "# Connect to the database you created\n",
    "try:\n",
    "    conn = psycopg2.connect(\n",
    "        host = \"localhost\",\n",
    "        user = \"yinka_admin\",\n",
    "        password = \"yinkaadmin\",\n",
    "        dbname = \"exam_db\"\n",
    "    )\n",
    "    conn.set_isolation_level(psycopg2.extensions.ISOLATION_LEVEL_AUTOCOMMIT)\n",
    "    cur = conn.cursor()\n",
    "\n",
    "    cur.execute(\"CREATE SCHEMA IF NOT EXISTS exam_schema\")\n",
    "    conn.commit()\n",
    "    print(\"Exam schema successfully created\")\n",
    "\n",
    "\n",
    "except (Exception, psycopg2.Error) as error:\n",
    "    print(f\"Error while creating schema: {error}\")"
   ]
  },
  {
   "cell_type": "code",
   "execution_count": null,
   "metadata": {},
   "outputs": [],
   "source": [
    "# Create customer table\n",
    "try:\n",
    "    cur.execute(\"\"\"\n",
    "        CREATE TABLE IF NOT EXISTS customers(\n",
    "                customer_id SERIAL PRIMARY KEY,\n",
    "                name TEXT NOT NULL,\n",
    "                email TEXT UNIQUE NOT NULL,\n",
    "                phone_number TEXT,\n",
    "                address JSONB)\n",
    "                \"\"\"\n",
    "                )\n",
    "\n",
    "    # Create product table\n",
    "    cur.execute(\"\"\"\n",
    "                CREATE TABLE IF NOT EXISTS products(\n",
    "                product_id SERIAL PRIMARY KEY,\n",
    "                product_name VARCHAR(100) NOT NULL,\n",
    "                category VARCHAR(100),\n",
    "                price DECIMAL(10, 2) NOT NULL,\n",
    "                stock_quantity INT NOT NULL \n",
    "                )\n",
    "                \"\"\")\n",
    "\n",
    "    # Create the orders table\n",
    "    cur.execute(\"\"\"\n",
    "                CREATE TABLE IF NOT EXISTS orders(\n",
    "                order_id SERIAL PRIMARY KEY,\n",
    "                customer_id INT NOT NULL, \n",
    "                order_date TIMESTAMP NOT NULL,\n",
    "                total_amount DECIMAL(10, 2) NOT NULL,\n",
    "                FOREIGN KEY (customer_id) REFERENCES customers (customer_id)\n",
    "                )\n",
    "                \"\"\")\n",
    "\n",
    "    # Create the order item table\n",
    "    cur.execute(\"\"\"\n",
    "                CREATE TABLE IF NOT EXISTS order_items(\n",
    "                order_item_id SERIAL PRIMARY KEY,\n",
    "                order_id INT NOT NULL,\n",
    "                product_id INT NOT NULL,\n",
    "                quantity INT NOT NULL,\n",
    "                price DECIMAL(10,2) NOT NULL,\n",
    "                FOREIGN KEY (order_id) REFERENCES orders(order_id),\n",
    "                FOREIGN KEY (product_id) REFERENCES productS(product_id)\n",
    "                )\n",
    "                \"\"\")\n",
    "    \n",
    "    conn.commit()\n",
    "    print(\"Tables created successfully\")\n",
    "\n",
    "except (Exception, psycopg2.Error) as error:\n",
    "    print(f\"Error while creating table {error}\")\n"
   ]
  },
  {
   "cell_type": "code",
   "execution_count": null,
   "metadata": {},
   "outputs": [],
   "source": [
    "# Populate the tables with data\n",
    "fake = Faker()\n",
    "\n",
    "# Generate customer data\n",
    "cur.execute(\"TRUNCATE TABLE customers, products, orders, order_items\")\n",
    "print(\"Tables truncated successfully\")\n",
    "\n",
    "customers = [\n",
    "        (\"John Doe\", \"john.doe@example.com\", \"555-1234\", '{\"Street\": \"123 Main St\", \"City\": \"Anytown\", \"State\": \"CA\", \"PostalCode\": \"12345\"}'),\n",
    "        (\"Jane Smith\", \"jane.smith@example.com\", \"555-5678\", '{\"Street\": \"456 Oak Ave\", \"City\": \"Smallville\", \"State\": \"NY\", \"PostalCode\": \"56789\"}'),\n",
    "        (\"David Lee\", \"david.lee@example.com\", \"555-9012\", '{\"Street\": \"789 Pine Rd\", \"City\": \"Big City\", \"State\": \"TX\", \"PostalCode\": \"90123\"}'),\n",
    "        (\"Sarah Jones\", \"sarah.jones@example.com\", \"555-3456\", '{\"Street\": \"101 Maple Dr\", \"City\": \"Othertown\", \"State\": \"FL\", \"PostalCode\": \"34567\"}'),\n",
    "        (\"Michael Brown\", \"michael.brown@example.com\", \"555-7890\", '{\"Street\": \"202 Elm St\", \"City\": \"Anytown\", \"State\": \"CA\", \"PostalCode\": \"12345\"}'),\n",
    "        (\"Emily Davis\", \"emily.davis@example.com\", \"555-2345\", '{\"Street\": \"303 Oak Ave\", \"City\": \"Smallville\", \"State\": \"NY\", \"PostalCode\": \"56789\"}'),\n",
    "        (\"Daniel White\", \"daniel.white@example.com\", \"555-6789\", '{\"Street\": \"404 Pine Rd\", \"City\": \"Big City\", \"State\": \"TX\", \"PostalCode\": \"90123\"}'),\n",
    "        (\"Amanda Clark\", \"amanda.clark@example.com\", \"555-8901\", '{\"Street\": \"505 Maple Dr\", \"City\": \"Othertown\", \"State\": \"FL\", \"PostalCode\": \"34567\"}'),\n",
    "        (\"Christopher Lee\", \"christopher.lee@example.com\", \"555-0123\", '{\"Street\": \"606 Elm St\", \"City\": \"Anytown\", \"State\": \"CA\", \"PostalCode\": \"12345\"}'),\n",
    "        (\"Melissa Young\", \"melissa.young@example.com\", \"555-4567\", '{\"Street\": \"707 Oak Ave\", \"City\": \"Smallville\", \"State\": \"NY\", \"PostalCode\": \"56789\"}')\n",
    "    ]\n",
    "for name, email, phone, address in customers:\n",
    "    cur.execute(\"INSERT INTO customers (name, email, phone_number, address) VALUES (%s, %s, %s, %s)\", \n",
    "                (name, email, phone, address))\n",
    "conn.commit()\n",
    "\n",
    "cur.execute(\"SELECT * FROM customers\")\n",
    "customer_table = cur.fetchall()\n",
    "for row in customer_table:\n",
    "     print(row)\n",
    "\n"
   ]
  },
  {
   "cell_type": "code",
   "execution_count": null,
   "metadata": {},
   "outputs": [],
   "source": [
    "#Generate product data\n",
    "\n",
    "products = [\n",
    "        (\"Acme Corp\", \"Electronics\", 999.00, 50),\n",
    "        (\"Beta Inc.\", \"Clothing\", 49.99, 20),\n",
    "        (\"Gamma Co.\", \"Books\", 29.95, 100),\n",
    "        (\"Delta Ltd.\", \"Food\", 19.99, 50),\n",
    "        (\"Epsilon Corp.\", \"Home\", 149.00, 30),\n",
    "        (\"Zeta Inc.\", \"Electronics\", 299.00, 75),\n",
    "        (\"Alpha Corp.\", \"Clothing\", 79.99, 40),\n",
    "        (\"Omega Inc.\", \"Books\", 14.95, 150),\n",
    "        (\"Theta Co.\", \"Food\", 9.99, 100),\n",
    "        (\"Lambda Corp.\", \"Home\", 249.00, 25)\n",
    "    ]\n",
    "for name, category, price, stock_quantity in products:\n",
    "        cur.execute(\"INSERT INTO products (product_name, category, price, stock_quantity) VALUES (%s, %s, %s, %s)\", \n",
    "                    (name, category, price, stock_quantity))\n",
    "conn.commit()\n",
    "\n",
    "\n",
    "cur.execute(\"SELECT * FROM products\")\n",
    "customer_table = cur.fetchall()\n",
    "for row in customer_table:\n",
    "     print(row)"
   ]
  },
  {
   "cell_type": "code",
   "execution_count": null,
   "metadata": {},
   "outputs": [],
   "source": [
    "# Generate order data\n",
    "\n",
    "orders = [\n",
    "        (1, 1234.56, datetime.date(2023, 11, 22)), \n",
    "        (3, 456.78, datetime.date(2023, 11, 21)), \n",
    "        (2, 987.65, datetime.date(2023, 11, 20)), \n",
    "        (5, 234.56, datetime.date(2023, 11, 19)), \n",
    "        (4, 678.90, datetime.date(2023, 11, 18)), \n",
    "        (1, 1011.22, datetime.date(2023, 11, 17)), \n",
    "        (3, 345.67, datetime.date(2023, 11, 16)), \n",
    "        (2, 876.54, datetime.date(2023, 11, 15)), \n",
    "        (5, 432.10, datetime.date(2023, 11, 14)), \n",
    "        (4, 987.65, datetime.date(2023, 11, 13)), \n",
    "        (1, 567.89, datetime.date(2023, 11, 12)), \n",
    "        (3, 123.45, datetime.date(2023, 11, 11)), \n",
    "        (2, 789.01, datetime.date(2023, 11, 10)), \n",
    "        (5, 345.67, datetime.date(2023, 11, 9)), \n",
    "        (4, 901.23, datetime.date(2023, 11, 8)), \n",
    "        (1, 567.89, datetime.date(2023, 11, 7)), \n",
    "        (3, 123.45, datetime.date(2023, 11, 6)), \n",
    "        (2, 789.01, datetime.date(2023, 11, 5)), \n",
    "        (5, 345.67, datetime.date(2023, 11, 4)), \n",
    "        (4, 901.23, datetime.date(2023, 11, 3))\n",
    "    ]\n",
    "for customer_id, total_amount, order_date in orders:\n",
    "    cur.execute(\"INSERT INTO orders (customer_id, total_amount, order_date) VALUES (%s, %s, %s)\", \n",
    "                (customer_id, total_amount, order_date))\n",
    "conn.commit()\n",
    "\n",
    "cur.execute(\"SELECT * FROM orders\")\n",
    "customer_table = cur.fetchall()\n",
    "for row in customer_table:\n",
    "     print(row)"
   ]
  },
  {
   "cell_type": "code",
   "execution_count": null,
   "metadata": {},
   "outputs": [],
   "source": [
    "# Generate order item data\n",
    "\n",
    "order_items = [\n",
    "        (1, 1, 2, 999.00), \n",
    "        (1, 1, 1, 29.95), \n",
    "        (2, 2, 3, 49.99), \n",
    "        (2, 5, 1, 149.00), \n",
    "        (3, 1, 1, 999.00), \n",
    "        (3, 4, 2, 19.99), \n",
    "        (4, 3, 1, 29.95), \n",
    "        (4, 2, 1, 49.99), \n",
    "        (5, 1, 1, 999.00), \n",
    "        (5, 5, 1, 149.00), \n",
    "        (6, 1, 2, 999.00), \n",
    "        (6, 3, 1, 29.95), \n",
    "        (7, 2, 3, 49.99), \n",
    "        (7, 5, 1, 149.00), \n",
    "        (8, 1, 1, 999.00), \n",
    "        (8, 4, 2, 19.99), \n",
    "        (9, 3, 1, 29.95), \n",
    "        (9, 2, 1, 49.99), \n",
    "        (10, 1, 1, 999.00), \n",
    "        (10, 5, 1, 149.00), \n",
    "        (11, 1, 2, 999.00), \n",
    "        (11, 1, 1, 29.95), \n",
    "        (12, 2, 3, 49.99), \n",
    "        (12, 5, 1, 149.00), \n",
    "        (13, 1, 1, 999.00), \n",
    "        (13, 4, 2, 19.99), \n",
    "        (14, 3, 1, 29.95), \n",
    "        (14, 2, 1, 49.99), \n",
    "        (15, 1, 1, 999.00), \n",
    "        (15, 5, 1, 149.00), \n",
    "        (16, 1, 2, 999.00), \n",
    "        (16, 3, 1, 29.95), \n",
    "        (17, 2, 3, 49.99), \n",
    "        (17, 5, 1, 149.00), \n",
    "        (18, 1, 1, 999.00), \n",
    "        (18, 4, 2, 19.99), \n",
    "        (19, 3, 1, 29.95), \n",
    "        (19, 2, 1, 49.99), \n",
    "        (20, 1, 1, 999.00), \n",
    "        (20, 5, 1, 149.00), \n",
    "        (1, 1, 2, 999.00), \n",
    "        (1, 1, 1, 29.95), \n",
    "        (2, 2, 3, 49.99), \n",
    "        (2, 5, 1, 149.00), \n",
    "        (3, 1, 1, 999.00), \n",
    "        (3, 4, 2, 19.99), \n",
    "        (4, 3, 1, 29.95), \n",
    "        (4, 2, 1, 49.99), \n",
    "        (5, 1, 1, 999.00), \n",
    "        (5, 5, 1, 149.00) \n",
    "    ]\n",
    "for order_id, product_id, quantity, price in order_items:\n",
    "    cur.execute(\"INSERT INTO order_items (order_id, product_id, quantity, price) VALUES (%s, %s, %s, %s)\", \n",
    "                (order_id, product_id, quantity, price))\n",
    "\n",
    "conn.commit()\n",
    "\n",
    "cur.execute(\"SELECT * FROM orders\")\n",
    "customer_table = cur.fetchall()\n",
    "for row in customer_table:\n",
    "     print(row)\n",
    "\n",
    "print(\"All Table data generated successfully.\")"
   ]
  },
  {
   "cell_type": "markdown",
   "metadata": {},
   "source": [
    "Task 2 - CRUD Operations"
   ]
  },
  {
   "cell_type": "code",
   "execution_count": null,
   "metadata": {},
   "outputs": [],
   "source": [
    "# 1. Add a new customer to the database.\n",
    "try:\n",
    "    cur.execute(\"INSERT INTO customers (name, email, phone_number, address) VALUES (%s, %s, %s, %s)\", \n",
    "                    (\"Adeyinka\", \"owodunniadeyik@gmail.com\", +2341023456, json.dumps({\"Street\": \"50 Wiga\", \"City\": \"Mushin\", \"State\": \"Lagos\", \"PostalCode\": \"1200071\"})))\n",
    "    print(\"Data inserted successfully\")\n",
    "\n",
    "    conn.commit()\n",
    "\n",
    "except (Exception, psycopg2.Error) as error:\n",
    "    print(f\"Error while inserting data {error}\")\n",
    "\n"
   ]
  },
  {
   "cell_type": "code",
   "execution_count": 15,
   "metadata": {},
   "outputs": [
    {
     "name": "stdout",
     "output_type": "stream",
     "text": [
      "Data Updated successfully\n"
     ]
    }
   ],
   "source": [
    "# 2. Update the stock quantity of a product after a purchase.\n",
    "try:\n",
    "    cur.execute(\"\"\"\n",
    "                UPDATE products\n",
    "                SET stock_quantity = 50\n",
    "                WHERE product_id = 6\n",
    "\"\"\")\n",
    "    \n",
    "    conn.commit()\n",
    "    print(\"Data Updated successfully\")\n",
    "\n",
    "except (Exception, psycopg2.Error) as error:\n",
    "    print(f\"Error while updating data {error}\")\n",
    "\n"
   ]
  },
  {
   "cell_type": "code",
   "execution_count": 16,
   "metadata": {},
   "outputs": [
    {
     "name": "stdout",
     "output_type": "stream",
     "text": [
      "Data deleted successfully\n"
     ]
    }
   ],
   "source": [
    "# 3. Delete an order from the database.\n",
    "\n",
    "try:\n",
    "    cur.execute(\"DELETE FROM order_items WHERE order_id = 5\")\n",
    "    conn.commit()\n",
    "    cur.execute(\"\"\"\n",
    "                DELETE FROM orders\n",
    "                WHERE order_id = 5\n",
    "\"\"\")\n",
    "    conn.commit()\n",
    "    print(\"Data deleted successfully\")\n",
    "\n",
    "except (Exception, psycopg2.Error) as error:\n",
    "    print(f\"Error while deleting data {error}\")\n"
   ]
  },
  {
   "cell_type": "code",
   "execution_count": 17,
   "metadata": {},
   "outputs": [
    {
     "name": "stdout",
     "output_type": "stream",
     "text": [
      "Data retrieved successfully\n",
      "[(10, datetime.datetime(2023, 11, 13, 0, 0), Decimal('987.65')), (15, datetime.datetime(2023, 11, 8, 0, 0), Decimal('901.23')), (20, datetime.datetime(2023, 11, 3, 0, 0), Decimal('901.23'))]\n",
      "[(10, datetime.datetime(2023, 11, 13, 0, 0), Decimal('987.65')), (15, datetime.datetime(2023, 11, 8, 0, 0), Decimal('901.23')), (20, datetime.datetime(2023, 11, 3, 0, 0), Decimal('901.23'))]\n",
      "[(10, datetime.datetime(2023, 11, 13, 0, 0), Decimal('987.65')), (15, datetime.datetime(2023, 11, 8, 0, 0), Decimal('901.23')), (20, datetime.datetime(2023, 11, 3, 0, 0), Decimal('901.23'))]\n"
     ]
    }
   ],
   "source": [
    "# 4. Retrieve all orders made by a specific customer.\n",
    "try:\n",
    "    cur.execute(\"\"\"\n",
    "        SELECT o.order_id, o.order_date, o.total_amount \n",
    "        FROM orders o\n",
    "        JOIN customers c ON o.customer_id = c.customer_id\n",
    "        WHERE c.customer_id = 4;\n",
    "\"\"\")\n",
    "    print(\"Data retrieved successfully\")\n",
    "    orders = cur.fetchall()\n",
    "    for rows in orders:\n",
    "        print(orders)\n",
    "\n",
    "except (Exception, psycopg2.Error) as error:\n",
    "    print(f\"Error while retrieving data {error}\")\n"
   ]
  },
  {
   "cell_type": "markdown",
   "metadata": {},
   "source": [
    "Task 3 - Analytical Queries"
   ]
  },
  {
   "cell_type": "code",
   "execution_count": 18,
   "metadata": {},
   "outputs": [
    {
     "name": "stdout",
     "output_type": "stream",
     "text": [
      "Data retrieved successfully\n",
      "(Decimal('12021.23'),)\n"
     ]
    }
   ],
   "source": [
    "# 1. Revenue Analysis\n",
    "# Calculate the total revenue generated by the e-commerce platform.\n",
    "try:\n",
    "    cur.execute(\"\"\"\n",
    "        SELECT SUM(total_amount) AS total_revenue FROM orders\n",
    "\"\"\")\n",
    "    print(\"Data retrieved successfully\")\n",
    "    rows = cur.fetchall()\n",
    "    for row in rows:\n",
    "        print(row)\n",
    "\n",
    "except (Exception, psycopg2.Error) as error:\n",
    "    print(f\"Error while retrieving data {error}\")"
   ]
  },
  {
   "cell_type": "code",
   "execution_count": 19,
   "metadata": {},
   "outputs": [
    {
     "name": "stdout",
     "output_type": "stream",
     "text": [
      "Data retrieved successfully\n",
      "('Epsilon Corp.', Decimal('1192.00'))\n",
      "('Beta Inc.', Decimal('999.80'))\n",
      "('Gamma Co.', Decimal('209.65'))\n",
      "('Acme Corp', Decimal('18071.85'))\n",
      "('Delta Ltd.', Decimal('199.90'))\n"
     ]
    }
   ],
   "source": [
    "# Find the revenue generated per product.\n",
    "try:\n",
    "    cur.execute(\"\"\"\n",
    "                SELECT p.product_name, SUM(ordi.quantity * ordi.price) AS product_revenue\n",
    "                FROM products p\n",
    "                JOIN order_items ordi ON p.product_id = ordi.product_id\n",
    "                GROUP BY p.product_name;\n",
    "\"\"\")\n",
    "    print(\"Data retrieved successfully\")\n",
    "    rows = cur.fetchall()\n",
    "    for row in rows:\n",
    "        print(row)\n",
    "\n",
    "except (Exception, psycopg2.Error) as error:\n",
    "    print(f\"Error while retrieving data {error}\")"
   ]
  },
  {
   "cell_type": "code",
   "execution_count": 20,
   "metadata": {},
   "outputs": [
    {
     "name": "stdout",
     "output_type": "stream",
     "text": [
      "Data retrieved successfully\n",
      "(2, 'Jane Smith', Decimal('3442.21'))\n",
      "(1, 'John Doe', Decimal('3381.56'))\n",
      "(4, 'Sarah Jones', Decimal('2790.11'))\n",
      "(5, 'Michael Brown', Decimal('1358.00'))\n",
      "(3, 'David Lee', Decimal('1049.35'))\n"
     ]
    }
   ],
   "source": [
    "# 2. Customer Insights\n",
    "# List the top 5 customers by total spending.\n",
    "try:\n",
    "    cur.execute(\"\"\"\n",
    "                SELECT c.customer_id, c.name, SUM(ord.total_amount) AS total_spending\n",
    "                FROM customers c\n",
    "                JOIN orders ord ON c.customer_id = ord.customer_id\n",
    "                GROUP BY c.customer_id, c.name\n",
    "                ORDER BY total_spending DESC\n",
    "                LIMIT 5;\n",
    "\"\"\")\n",
    "    print(\"Data retrieved successfully\")\n",
    "    rows = cur.fetchall()\n",
    "    for row in rows:\n",
    "        print(row)\n",
    "\n",
    "except (Exception, psycopg2.Error) as error:\n",
    "    print(f\"Error while retrieving data {error}\")"
   ]
  },
  {
   "cell_type": "code",
   "execution_count": 21,
   "metadata": {},
   "outputs": [
    {
     "name": "stdout",
     "output_type": "stream",
     "text": [
      "Data retrieved successfully\n",
      "(11, 'Adeyinka')\n",
      "(10, 'Melissa Young')\n",
      "(8, 'Amanda Clark')\n",
      "(6, 'Emily Davis')\n",
      "(9, 'Christopher Lee')\n",
      "(7, 'Daniel White')\n"
     ]
    }
   ],
   "source": [
    "# Identify customers who haven’t made any purchases.\n",
    "try:\n",
    "    cur.execute(\"\"\"\n",
    "                SELECT c.customer_id, c.name\n",
    "                FROM customers c\n",
    "                LEFT JOIN orders ord ON c.customer_id = ord.customer_id\n",
    "                WHERE ord.order_id IS NULL;\n",
    "\"\"\")\n",
    "    print(\"Data retrieved successfully\")\n",
    "    rows = cur.fetchall()\n",
    "    for row in rows:\n",
    "        print(row)\n",
    "\n",
    "except (Exception, psycopg2.Error) as error:\n",
    "    print(f\"Error while retrieving data {error}\")"
   ]
  },
  {
   "cell_type": "code",
   "execution_count": 22,
   "metadata": {},
   "outputs": [
    {
     "name": "stdout",
     "output_type": "stream",
     "text": [
      "Data retrieved successfully\n",
      "('Acme Corp', 21)\n",
      "('Beta Inc.', 20)\n",
      "('Delta Ltd.', 10)\n"
     ]
    }
   ],
   "source": [
    "# 3. Product Trends:\n",
    "# Find the top 3 best-selling products.\n",
    "try:\n",
    "    cur.execute(\"\"\"\n",
    "                SELECT p.product_name, SUM(oi.quantity) AS total_quantity_sold\n",
    "                FROM products p\n",
    "                JOIN order_items oi ON p.product_id = oi.product_id\n",
    "                GROUP BY p.product_name\n",
    "                ORDER BY total_quantity_sold DESC\n",
    "                LIMIT 3\n",
    "\"\"\")\n",
    "    print(\"Data retrieved successfully\")\n",
    "    rows = cur.fetchall()\n",
    "    for row in rows:\n",
    "        print(row)\n",
    "\n",
    "except (Exception, psycopg2.Error) as error:\n",
    "    print(f\"Error while retrieving data {error}\")"
   ]
  },
  {
   "cell_type": "code",
   "execution_count": 23,
   "metadata": {},
   "outputs": [
    {
     "name": "stdout",
     "output_type": "stream",
     "text": [
      "Data retrieved successfully\n"
     ]
    }
   ],
   "source": [
    "# 3. Product Trends:\n",
    "# Identify products that are out of stock.\n",
    "try:\n",
    "    cur.execute(\"\"\"\n",
    "                SELECT *\n",
    "                FROM products\n",
    "                WHERE stock_quantity = 0;\n",
    "\"\"\")\n",
    "    print(\"Data retrieved successfully\")\n",
    "    rows = cur.fetchall()\n",
    "    for row in rows:\n",
    "        print(row)\n",
    "\n",
    "except (Exception, psycopg2.Error) as error:\n",
    "    print(f\"Error while retrieving data {error}\")"
   ]
  },
  {
   "cell_type": "code",
   "execution_count": 24,
   "metadata": {},
   "outputs": [
    {
     "name": "stdout",
     "output_type": "stream",
     "text": [
      "Data retrieved successfully\n",
      "(3, Decimal('49.99'), 'Beta Inc.')\n",
      "(1, Decimal('149.00'), 'Epsilon Corp.')\n"
     ]
    }
   ],
   "source": [
    "# 4. Order Details:\n",
    "# Retrieve all items in a specific order, including product names, quantities, and prices.\n",
    "try:\n",
    "    cur.execute(\"\"\"\n",
    "                SELECT ordi.quantity, ordi.price, p.product_name\n",
    "                FROM order_items ordi\n",
    "                JOIN products p ON ordi.product_id = p.product_id\n",
    "                WHERE ordi.order_id = 7;\n",
    "\"\"\")\n",
    "    print(\"Data retrieved successfully\")\n",
    "    rows = cur.fetchall()\n",
    "    for row in rows:\n",
    "        print(row)\n",
    "\n",
    "except (Exception, psycopg2.Error) as error:\n",
    "    print(f\"Error while retrieving data {error}\")"
   ]
  },
  {
   "cell_type": "code",
   "execution_count": 30,
   "metadata": {},
   "outputs": [
    {
     "name": "stdout",
     "output_type": "stream",
     "text": [
      "Data retrieved successfully\n",
      "(Decimal('1038.98'),)\n"
     ]
    }
   ],
   "source": [
    "# 4. Order Details:\n",
    "# Calculate the total amount of an order.\n",
    "try:\n",
    "    cur.execute(\"\"\"\n",
    "                SELECT SUM(ordi.quantity * ordi.price) AS order_total\n",
    "                FROM order_items ordi\n",
    "                WHERE ordi.order_id = 8\n",
    "\"\"\")\n",
    "    print(\"Data retrieved successfully\")\n",
    "    rows = cur.fetchall()\n",
    "    for row in rows:\n",
    "        print(row)\n",
    "\n",
    "except (Exception, psycopg2.Error) as error:\n",
    "    print(f\"Error while retrieving data {error}\")"
   ]
  },
  {
   "cell_type": "code",
   "execution_count": 32,
   "metadata": {},
   "outputs": [
    {
     "name": "stdout",
     "output_type": "stream",
     "text": [
      "Data retrieve successfully\n",
      "(Decimal('11'), 19, Decimal('12021.23'))\n"
     ]
    }
   ],
   "source": [
    "# 5. Monthly Trends:\n",
    "# Calculate the number of orders and total revenue for each month.\n",
    "try:\n",
    "    cur.execute(\"\"\"\n",
    "                SELECT EXTRACT(MONTH FROM ord.order_date) AS month, \n",
    "                COUNT(DISTINCT ord.order_id) AS order_count, \n",
    "                SUM(ord.total_amount) AS monthly_revenue\n",
    "                FROM orders ord\n",
    "                GROUP BY month\n",
    "                ORDER BY month\n",
    "\"\"\")\n",
    "    print(\"Data retrieve successfully\")\n",
    "    rows = cur.fetchall()\n",
    "    for row in rows:\n",
    "        print(row)\n",
    "\n",
    "except (Exception, psycopg2.Error) as error:\n",
    "    print(f\"Error while retrieving data {error}\")"
   ]
  },
  {
   "cell_type": "markdown",
   "metadata": {},
   "source": [
    "Task 4 - Advanced SQL"
   ]
  },
  {
   "cell_type": "code",
   "execution_count": 34,
   "metadata": {},
   "outputs": [
    {
     "name": "stdout",
     "output_type": "stream",
     "text": [
      "Data retrieve successfully\n",
      "('John Doe', 1, Decimal('1234.56'))\n",
      "('David Lee', 2, Decimal('456.78'))\n",
      "('Jane Smith', 3, Decimal('987.65'))\n",
      "('Michael Brown', 4, Decimal('234.56'))\n",
      "('John Doe', 6, Decimal('1011.22'))\n",
      "('David Lee', 7, Decimal('345.67'))\n",
      "('Jane Smith', 8, Decimal('876.54'))\n",
      "('Michael Brown', 9, Decimal('432.10'))\n",
      "('Sarah Jones', 10, Decimal('987.65'))\n",
      "('John Doe', 11, Decimal('567.89'))\n",
      "('David Lee', 12, Decimal('123.45'))\n",
      "('Jane Smith', 13, Decimal('789.01'))\n",
      "('Michael Brown', 14, Decimal('345.67'))\n",
      "('Sarah Jones', 15, Decimal('901.23'))\n",
      "('John Doe', 16, Decimal('567.89'))\n",
      "('David Lee', 17, Decimal('123.45'))\n",
      "('Jane Smith', 18, Decimal('789.01'))\n",
      "('Michael Brown', 19, Decimal('345.67'))\n",
      "('Sarah Jones', 20, Decimal('901.23'))\n"
     ]
    }
   ],
   "source": [
    "#Write queries using INNER Join\n",
    "try:\n",
    "    cur.execute(\"\"\"\n",
    "                SELECT c.name, ord.order_id, ord.total_amount\n",
    "                FROM customers c\n",
    "                INNER JOIN orders ord ON c.customer_id = ord.customer_id;\n",
    "\"\"\")\n",
    "    print(\"Data retrieve successfully\")\n",
    "    rows = cur.fetchall()\n",
    "    for row in rows:\n",
    "        print(row)\n",
    "\n",
    "except (Exception, psycopg2.Error) as error:\n",
    "    print(f\"Error while retrieving data {error}\")"
   ]
  },
  {
   "cell_type": "code",
   "execution_count": 35,
   "metadata": {},
   "outputs": [
    {
     "name": "stdout",
     "output_type": "stream",
     "text": [
      "Data retrieve successfully\n",
      "('John Doe', 1, Decimal('1234.56'))\n",
      "('David Lee', 2, Decimal('456.78'))\n",
      "('Jane Smith', 3, Decimal('987.65'))\n",
      "('Michael Brown', 4, Decimal('234.56'))\n",
      "('John Doe', 6, Decimal('1011.22'))\n",
      "('David Lee', 7, Decimal('345.67'))\n",
      "('Jane Smith', 8, Decimal('876.54'))\n",
      "('Michael Brown', 9, Decimal('432.10'))\n",
      "('Sarah Jones', 10, Decimal('987.65'))\n",
      "('John Doe', 11, Decimal('567.89'))\n",
      "('David Lee', 12, Decimal('123.45'))\n",
      "('Jane Smith', 13, Decimal('789.01'))\n",
      "('Michael Brown', 14, Decimal('345.67'))\n",
      "('Sarah Jones', 15, Decimal('901.23'))\n",
      "('John Doe', 16, Decimal('567.89'))\n",
      "('David Lee', 17, Decimal('123.45'))\n",
      "('Jane Smith', 18, Decimal('789.01'))\n",
      "('Michael Brown', 19, Decimal('345.67'))\n",
      "('Sarah Jones', 20, Decimal('901.23'))\n",
      "('Adeyinka', None, None)\n",
      "('Melissa Young', None, None)\n",
      "('Amanda Clark', None, None)\n",
      "('Emily Davis', None, None)\n",
      "('Christopher Lee', None, None)\n",
      "('Daniel White', None, None)\n"
     ]
    }
   ],
   "source": [
    "#Write queries using LEFT Join\n",
    "try:\n",
    "    cur.execute(\"\"\"\n",
    "                SELECT c.name, ord.order_id, ord.total_amount\n",
    "                FROM customers c\n",
    "                LEFT JOIN orders ord ON c.customer_id = ord.customer_id;\n",
    "\"\"\")\n",
    "    print(\"Data retrieve successfully\")\n",
    "    rows = cur.fetchall()\n",
    "    for row in rows:\n",
    "        print(row)\n",
    "\n",
    "except (Exception, psycopg2.Error) as error:\n",
    "    print(f\"Error while retrieving data {error}\")"
   ]
  },
  {
   "cell_type": "code",
   "execution_count": 37,
   "metadata": {},
   "outputs": [
    {
     "name": "stdout",
     "output_type": "stream",
     "text": [
      "Data retrieve successfully\n",
      "('John Doe', 1, Decimal('1234.56'))\n",
      "('David Lee', 2, Decimal('456.78'))\n",
      "('Jane Smith', 3, Decimal('987.65'))\n",
      "('Michael Brown', 4, Decimal('234.56'))\n",
      "('John Doe', 6, Decimal('1011.22'))\n",
      "('David Lee', 7, Decimal('345.67'))\n",
      "('Jane Smith', 8, Decimal('876.54'))\n",
      "('Michael Brown', 9, Decimal('432.10'))\n",
      "('Sarah Jones', 10, Decimal('987.65'))\n",
      "('John Doe', 11, Decimal('567.89'))\n",
      "('David Lee', 12, Decimal('123.45'))\n",
      "('Jane Smith', 13, Decimal('789.01'))\n",
      "('Michael Brown', 14, Decimal('345.67'))\n",
      "('Sarah Jones', 15, Decimal('901.23'))\n",
      "('John Doe', 16, Decimal('567.89'))\n",
      "('David Lee', 17, Decimal('123.45'))\n",
      "('Jane Smith', 18, Decimal('789.01'))\n",
      "('Michael Brown', 19, Decimal('345.67'))\n",
      "('Sarah Jones', 20, Decimal('901.23'))\n",
      "('Adeyinka', None, None)\n",
      "('Melissa Young', None, None)\n",
      "('Amanda Clark', None, None)\n",
      "('Emily Davis', None, None)\n",
      "('Christopher Lee', None, None)\n",
      "('Daniel White', None, None)\n"
     ]
    }
   ],
   "source": [
    "#Write queries using FULL Join\n",
    "try:\n",
    "    cur.execute(\"\"\"\n",
    "                SELECT c.name, ord.order_id, ord.total_amount\n",
    "                FROM customers c\n",
    "                FULL JOIN orders ord ON c.customer_id = ord.customer_id;\n",
    "\"\"\")\n",
    "    print(\"Data retrieve successfully\")\n",
    "    rows = cur.fetchall()\n",
    "    for row in rows:\n",
    "        print(row)\n",
    "\n",
    "except (Exception, psycopg2.Error) as error:\n",
    "    print(f\"Error while retrieving data {error}\")"
   ]
  },
  {
   "cell_type": "code",
   "execution_count": 40,
   "metadata": {},
   "outputs": [
    {
     "name": "stdout",
     "output_type": "stream",
     "text": [
      "Data retrieve successfully\n",
      "('Jane Smith', Decimal('3442.21'), 1)\n",
      "('John Doe', Decimal('3381.56'), 2)\n",
      "('Sarah Jones', Decimal('2790.11'), 3)\n",
      "('Michael Brown', Decimal('1358.00'), 4)\n",
      "('David Lee', Decimal('1049.35'), 5)\n"
     ]
    }
   ],
   "source": [
    "# Rank customers based on total spending\n",
    "try:\n",
    "    cur.execute(\"\"\"\n",
    "                SELECT c.name, SUM(ord.total_amount) AS total_spent,\n",
    "                RANK() OVER (ORDER BY SUM(ord.total_amount) DESC) AS rank\n",
    "                FROM customers c\n",
    "                JOIN orders ord ON c.customer_id = ord.customer_id\n",
    "                GROUP BY c.name\n",
    "                \"\"\")\n",
    "    print(\"Data retrieve successfully\")\n",
    "    rows = cur.fetchall()\n",
    "    for row in rows:\n",
    "        print(row)\n",
    "\n",
    "except (Exception, psycopg2.Error) as error:\n",
    "    print(f\"Error while retrieving data {error}\")"
   ]
  },
  {
   "cell_type": "code",
   "execution_count": 42,
   "metadata": {},
   "outputs": [
    {
     "name": "stdout",
     "output_type": "stream",
     "text": [
      "Data retrieve successfully\n",
      "(1, 16, 1)\n",
      "(1, 11, 2)\n",
      "(1, 6, 3)\n",
      "(1, 1, 4)\n",
      "(2, 18, 1)\n",
      "(2, 13, 2)\n",
      "(2, 8, 3)\n",
      "(2, 3, 4)\n",
      "(3, 17, 1)\n",
      "(3, 12, 2)\n",
      "(3, 7, 3)\n",
      "(3, 2, 4)\n",
      "(4, 20, 1)\n",
      "(4, 15, 2)\n",
      "(4, 10, 3)\n",
      "(5, 19, 1)\n",
      "(5, 14, 2)\n",
      "(5, 9, 3)\n",
      "(5, 4, 4)\n"
     ]
    }
   ],
   "source": [
    "# Assign a unique number to each order for a customer\n",
    "try:\n",
    "    cur.execute(\"\"\"\n",
    "                SELECT ord.customer_id, ord.order_id, \n",
    "                ROW_NUMBER() OVER (PARTITION BY ord.customer_id ORDER BY ord.order_date) AS order_number\n",
    "                FROM orders ord;\n",
    "                \"\"\")\n",
    "    print(\"Data retrieve successfully\")\n",
    "    rows = cur.fetchall()\n",
    "    for row in rows:\n",
    "        print(row)\n",
    "\n",
    "except (Exception, psycopg2.Error) as error:\n",
    "    print(f\"Error while retrieving data {error}\")"
   ]
  },
  {
   "cell_type": "code",
   "execution_count": 44,
   "metadata": {},
   "outputs": [
    {
     "name": "stdout",
     "output_type": "stream",
     "text": [
      "Data retrieve successfully\n",
      "('Sarah Jones', Decimal('2790.11'))\n",
      "('Jane Smith', Decimal('3442.21'))\n",
      "('David Lee', Decimal('1049.35'))\n",
      "('Michael Brown', Decimal('1358.00'))\n",
      "('John Doe', Decimal('3381.56'))\n"
     ]
    }
   ],
   "source": [
    "# CTE to calculate total revenue per customer and find customers with revenue > $500\n",
    "\n",
    "try:\n",
    "    cur.execute(\"\"\"\n",
    "                WITH RevenuePerCustomer AS (\n",
    "                SELECT c.customer_id, c.name, SUM(ord.total_amount) AS total_spent\n",
    "                FROM customers c\n",
    "                JOIN orders ord ON c.customer_id = ord.customer_id\n",
    "                GROUP BY c.customer_id, c.name\n",
    "                )\n",
    "                SELECT name, total_spent\n",
    "                FROM RevenuePerCustomer\n",
    "                WHERE total_spent > 500;\n",
    "                \"\"\")\n",
    "    print(\"Data retrieve successfully\")\n",
    "    rows = cur.fetchall()\n",
    "    for row in rows:\n",
    "        print(row)\n",
    "\n",
    "except (Exception, psycopg2.Error) as error:\n",
    "    print(f\"Error while retrieving data {error}\")"
   ]
  },
  {
   "cell_type": "code",
   "execution_count": 47,
   "metadata": {},
   "outputs": [
    {
     "name": "stdout",
     "output_type": "stream",
     "text": [
      "Data retrieve successfully\n",
      "('Acme Corp', Decimal('999.00'))\n",
      "('Acme Corp', Decimal('999.00'))\n"
     ]
    }
   ],
   "source": [
    "# Subquery to find the product with the highest price\n",
    "\n",
    "try:\n",
    "    cur.execute(\"\"\"\n",
    "                SELECT product_name, price\n",
    "                FROM products\n",
    "                WHERE price = (SELECT MAX(price) FROM products);\n",
    "                \"\"\")\n",
    "    print(\"Data retrieve successfully\")\n",
    "    rows = cur.fetchall()\n",
    "    for row in rows:\n",
    "        print(row)\n",
    "\n",
    "except (Exception, psycopg2.Error) as error:\n",
    "    print(f\"Error while retrieving data {error}\")"
   ]
  },
  {
   "cell_type": "code",
   "execution_count": 50,
   "metadata": {},
   "outputs": [
    {
     "name": "stdout",
     "output_type": "stream",
     "text": [
      "Data retrieve successfully\n",
      "Error while retrieving data no results to fetch\n"
     ]
    }
   ],
   "source": [
    "# Create indexes on frequently queried fields\n",
    "try:\n",
    "    cur.execute(\"\"\"\n",
    "                CREATE INDEX idx_customer_id ON orders(customer_id);\n",
    "                CREATE INDEX idx_product_id ON order_items(product_id);\n",
    "                \"\"\")\n",
    "    print(\"Data retrieve successfully\")\n",
    "    rows = cur.fetchall()\n",
    "    for row in rows:\n",
    "        print(row)\n",
    "\n",
    "except (Exception, psycopg2.Error) as error:\n",
    "    print(f\"Error while retrieving data {error}\")"
   ]
  },
  {
   "cell_type": "code",
   "execution_count": null,
   "metadata": {},
   "outputs": [],
   "source": [
    "\n",
    "\n",
    "\n",
    "\n",
    "\n",
    "\n",
    "--Subquery to find the product with the highest price\n",
    "\n",
    "--Indexing\n",
    "--Create indexes on frequently queried fields\n"
   ]
  },
  {
   "cell_type": "code",
   "execution_count": null,
   "metadata": {},
   "outputs": [],
   "source": []
  }
 ],
 "metadata": {
  "kernelspec": {
   "display_name": "Python 3",
   "language": "python",
   "name": "python3"
  },
  "language_info": {
   "codemirror_mode": {
    "name": "ipython",
    "version": 3
   },
   "file_extension": ".py",
   "mimetype": "text/x-python",
   "name": "python",
   "nbconvert_exporter": "python",
   "pygments_lexer": "ipython3",
   "version": "3.12.3"
  }
 },
 "nbformat": 4,
 "nbformat_minor": 2
}
